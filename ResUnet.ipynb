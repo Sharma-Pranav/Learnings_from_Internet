{
 "cells": [
  {
   "cell_type": "code",
   "execution_count": 28,
   "metadata": {},
   "outputs": [],
   "source": [
    "# Original online Implementation : https://www.youtube.com/watch?v=H604sFU_0ME \n",
    "# Paper Road Extraction by Deep Residual U-Net https://arxiv.org/abs/1711.10684\n",
    "import torch \n",
    "import torch.nn as nn"
   ]
  },
  {
   "cell_type": "code",
   "execution_count": 29,
   "metadata": {},
   "outputs": [],
   "source": [
    "class batchnorm_relu(nn.Module):\n",
    "    def __init__(self, in_c) -> None:\n",
    "        super().__init__()\n",
    "        self.bn = nn.BatchNorm2d(in_c)\n",
    "        self.relu = nn.ReLU()\n",
    "        \n",
    "    def forward(self, inputs):\n",
    "        x = self.bn(inputs)\n",
    "        x = self.relu(x)\n",
    "        return x \n"
   ]
  },
  {
   "cell_type": "code",
   "execution_count": 30,
   "metadata": {},
   "outputs": [],
   "source": [
    "\n",
    "class residual_block(nn.Module):\n",
    "    def __init__(self, in_c, out_c, stride=1):\n",
    "        super().__init__()\n",
    "        \n",
    "        \"\"\"Convolutional Layer\"\"\"\n",
    "        self.b1 = batchnorm_relu(in_c)\n",
    "        self.c1 = nn.Conv2d(in_c, out_c, kernel_size=3, padding=1, stride = stride)\n",
    "        \n",
    "        self.b2 = batchnorm_relu(out_c)\n",
    "        self.c2 = nn.Conv2d(out_c, out_c, kernel_size=3, padding=1, stride = 1)\n",
    "        \n",
    "        \"\"\"Shortcut Connection (Identity Mapping)\"\"\"\n",
    "        self.s = nn.Conv2d(in_c, out_c, kernel_size = 1, padding = 0, stride = stride)\n",
    "        \n",
    "        \n",
    "    def forward(self, inputs):\n",
    "        x = self.b1(inputs)\n",
    "        x = self.c1(x)\n",
    "        x = self.b2(x)\n",
    "        x = self.c2(x)\n",
    "        s = self.s(inputs)\n",
    "        \n",
    "        skip = x + s \n",
    "        return skip\n"
   ]
  },
  {
   "cell_type": "code",
   "execution_count": 31,
   "metadata": {},
   "outputs": [],
   "source": [
    "    \n",
    "class decoder_block(nn.Module):\n",
    "    def __init__(self, in_c, out_c) -> None:\n",
    "        super().__init__()\n",
    "        self.upsample = nn.Upsample(scale_factor=2, mode=\"bilinear\" , align_corners=True)\n",
    "        self.r = residual_block(in_c+out_c, out_c)\n",
    "        \n",
    "    def forward(self, inputs, skip):\n",
    "        x = self.upsample(inputs)\n",
    "\n",
    "        x = torch.cat([x, skip], axis = 1)\n",
    "        x = self.r(x)\n",
    "        return x\n"
   ]
  },
  {
   "cell_type": "code",
   "execution_count": 32,
   "metadata": {},
   "outputs": [],
   "source": [
    "    \n",
    "class build_resunet(nn.Module):\n",
    "    def __init__(self) -> None:\n",
    "        super().__init__()\n",
    "        \"\"\"\n",
    "        Encoder 1 \n",
    "        \"\"\"\n",
    "        self.cl1 = nn.Conv2d(3, 64, kernel_size=3, padding = 1)\n",
    "        self.br1 = batchnorm_relu(64)\n",
    "        self.cl2 = nn.Conv2d(64, 64, kernel_size=3, padding=1)\n",
    "        self.cl3 = nn.Conv2d(3, 64, kernel_size=1, padding=0)\n",
    "        \n",
    "        \n",
    "        \"\"\" Enocder 2 and 3\"\"\"\n",
    "        self.r2 = residual_block(64, 128, stride =2)\n",
    "        self.r3 = residual_block(128, 256, stride = 2)\n",
    "        \n",
    "        \n",
    "        \"\"\"Bridge\"\"\"\n",
    "\n",
    "        self.r4 = residual_block(256, 512, stride =2 )\n",
    "        \n",
    "        \"\"\"Decoder\"\"\"\n",
    "        \n",
    "        self.d1 = decoder_block(512, 256)\n",
    "        self.d2 = decoder_block(256, 128)\n",
    "        self.d3 = decoder_block(128, 64)\n",
    "        \n",
    "        \"\"\"Output\"\"\"\n",
    "        \n",
    "        self.output = nn.Conv2d(64, 1, kernel_size=1, padding=0)\n",
    "        self.sigmoid = nn.Sigmoid()\n",
    "    def forward(self, inputs):\n",
    "        x = self.cl1(inputs)\n",
    "        x = self.br1(x)\n",
    "        x = self.cl2(x)\n",
    "        s = self.cl3(inputs)\n",
    "        skip1 =  x + s\n",
    "        \n",
    "        \"\"\" Enocder 2 and 3\"\"\"\n",
    "        skip2 = self.r2(skip1)\n",
    "        skip3 = self.r3(skip2)\n",
    "\n",
    "        \n",
    "        \"\"\"bridge\"\"\"\n",
    "        b =self.r4(skip3)\n",
    "        \n",
    "        \"\"\"Decoder \"\"\"\n",
    "        d1 = self.d1(b, skip3)\n",
    "        d2 = self.d2(d1, skip2)\n",
    "        d3 = self.d3(d2, skip1)\n",
    "\n",
    "        \n",
    "        \"\"\"Output\"\"\"\n",
    "        output = self.output(d3)\n",
    "        output = self.sigmoid(output)\n",
    "\n",
    "        return output\n",
    "    "
   ]
  },
  {
   "cell_type": "code",
   "execution_count": 33,
   "metadata": {},
   "outputs": [
    {
     "name": "stdout",
     "output_type": "stream",
     "text": [
      "torch.Size([4, 1, 256, 256])\n"
     ]
    }
   ],
   "source": [
    "\n",
    "if __name__ == \"__main__\":\n",
    "    inputs = torch.randn((4,3 , 256, 256))\n",
    "    model = build_resunet()\n",
    "    output = model(inputs)\n",
    "    \n",
    "    print(output.shape)"
   ]
  },
  {
   "cell_type": "code",
   "execution_count": null,
   "metadata": {},
   "outputs": [],
   "source": []
  },
  {
   "cell_type": "code",
   "execution_count": null,
   "metadata": {},
   "outputs": [],
   "source": []
  }
 ],
 "metadata": {
  "kernelspec": {
   "display_name": "torch",
   "language": "python",
   "name": "python3"
  },
  "language_info": {
   "codemirror_mode": {
    "name": "ipython",
    "version": 3
   },
   "file_extension": ".py",
   "mimetype": "text/x-python",
   "name": "python",
   "nbconvert_exporter": "python",
   "pygments_lexer": "ipython3",
   "version": "3.10.9"
  },
  "orig_nbformat": 4
 },
 "nbformat": 4,
 "nbformat_minor": 2
}

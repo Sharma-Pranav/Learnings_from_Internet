{
 "cells": [
  {
   "cell_type": "code",
   "execution_count": 224,
   "metadata": {},
   "outputs": [],
   "source": [
    "import torch \n",
    "import torch.nn as nn\n",
    "import torchvision.transforms.functional as f\n",
    "\n"
   ]
  },
  {
   "cell_type": "code",
   "execution_count": 225,
   "metadata": {},
   "outputs": [],
   "source": [
    "class DoubleConv(nn.Module):\n",
    "    def __init__(self, in_channels, out_channels):\n",
    "        \"\"\"\n",
    "        Double Convolution Block constructor.\n",
    "\n",
    "        Args:\n",
    "        - in_channels (int): Number of input channels.\n",
    "        - out_channels (int): Number of output channels.\n",
    "\n",
    "        Returns:\n",
    "        None\n",
    "        \"\"\"\n",
    "        super(DoubleConv, self).__init__()\n",
    "        \n",
    "        self.conv = nn.Sequential(\n",
    "            nn.Conv2d(in_channels, out_channels, 3, 1, 1, bias = False ), \n",
    "            nn.BatchNorm2d(out_channels), \n",
    "            nn.ReLU(inplace=True),\n",
    "            nn.Conv2d(out_channels, out_channels, 3, 1, 1, bias = True), \n",
    "            nn.BatchNorm2d(out_channels), \n",
    "            nn.ReLU(inplace=True)\n",
    "        )\n",
    "        \n",
    "    def forward(self, x):\n",
    "        \"\"\"\n",
    "        Forward pass through the Double Convolution Block.\n",
    "\n",
    "        Args:\n",
    "        - x (Tensor): Input tensor.\n",
    "\n",
    "        Returns:\n",
    "        - output (Tensor): Output tensor.\n",
    "        \"\"\"\n",
    "        return self.conv(x)"
   ]
  },
  {
   "cell_type": "code",
   "execution_count": 226,
   "metadata": {},
   "outputs": [],
   "source": [
    "class UNet(nn.Module):\n",
    "    def __init__(\n",
    "            self, in_channels=3, out_channels=1, features=[64, 128, 256, 512],\n",
    "    ):\n",
    "        \"\"\"\n",
    "        U-Net architecture constructor.\n",
    "\n",
    "        Args:\n",
    "        - in_channels (int): Number of input channels.\n",
    "        - out_channels (int): Number of output channels.\n",
    "        - features (list): List of feature channels for each downsample block.\n",
    "\n",
    "        Returns:\n",
    "        None\n",
    "        \"\"\"\n",
    "        super(UNet, self).__init__()\n",
    "        self.ups = nn.ModuleList()\n",
    "        self.downs = nn.ModuleList()\n",
    "        self.pool = nn.MaxPool2d(kernel_size=2, stride=2)\n",
    "\n",
    "        # Down part of UNET\n",
    "        for feature in features:\n",
    "            \n",
    "            self.downs.append(DoubleConv(in_channels, feature))\n",
    "            in_channels = feature\n",
    "\n",
    "        # Up part of UNET\n",
    "        for feature in reversed(features):\n",
    "            self.ups.append(\n",
    "                nn.ConvTranspose2d(\n",
    "                    feature*2, feature, kernel_size=2, stride=2,\n",
    "                )\n",
    "            )\n",
    "            self.ups.append(DoubleConv(feature*2, feature))\n",
    "\n",
    "        self.bottleneck = DoubleConv(features[-1], features[-1]*2)\n",
    "        self.final_conv = nn.Conv2d(features[0], out_channels, kernel_size=1)\n",
    "\n",
    "    def forward(self, x):\n",
    "        skip_connections = []\n",
    "\n",
    "        for down in self.downs:\n",
    "            x = down(x)\n",
    "            skip_connections.append(x)\n",
    "            x = self.pool(x)\n",
    "\n",
    "        x = self.bottleneck(x)\n",
    "        skip_connections = skip_connections[::-1]\n",
    "\n",
    "        for idx in range(0, len(self.ups), 2):\n",
    "            x = self.ups[idx](x)\n",
    "            skip_connection = skip_connections[idx//2]\n",
    "\n",
    "            if x.shape != skip_connection.shape:\n",
    "                x = f.resize(x, size=skip_connection.shape[2:])\n",
    "\n",
    "            concat_skip = torch.cat((skip_connection, x), dim=1)\n",
    "            x = self.ups[idx+1](concat_skip)\n",
    "\n",
    "        return nn.ReLU()(self.final_conv(x))"
   ]
  },
  {
   "cell_type": "code",
   "execution_count": 227,
   "metadata": {},
   "outputs": [
    {
     "name": "stdout",
     "output_type": "stream",
     "text": [
      "torch.Size([1, 1, 320, 320])\n"
     ]
    }
   ],
   "source": [
    "\n",
    "def test():\n",
    "    \"\"\"\n",
    "    Function to test the UNet model on sample input data.\n",
    "\n",
    "    It creates a sample input tensor, initializes the UNet model, and generates predictions.\n",
    "    The shape of the predictions is printed to the console.\n",
    "\n",
    "    Usage:\n",
    "    test()\n",
    "\n",
    "    \"\"\"\n",
    "    x = torch.randn((1, 3, 320, 320))\n",
    "    model = UNet(in_channels=3, out_channels=1)\n",
    "    preds = model(x)\n",
    "    print(preds.shape)\n",
    "    #assert preds.shape == x.shape\n",
    "\n",
    "\n",
    "test()\n",
    "    "
   ]
  },
  {
   "cell_type": "code",
   "execution_count": 228,
   "metadata": {},
   "outputs": [],
   "source": [
    "#From Here on we build using coursera based \n",
    "\n",
    "import os \n",
    "import sys \n",
    "import albumentations as A\n",
    "dataset_path = os.path.join(\"Human-Segmentation-Dataset-master\")\n",
    "sys.path.append(dataset_path)"
   ]
  },
  {
   "cell_type": "code",
   "execution_count": 251,
   "metadata": {},
   "outputs": [],
   "source": [
    "import torch\n",
    "import cv2\n",
    "import albumentations as A\n",
    "import numpy as np\n",
    "import pandas as pd\n",
    "import matplotlib.pyplot as plt\n",
    "\n",
    "from sklearn.model_selection import train_test_split\n",
    "from torch.utils.data import DataLoader\n",
    "from tqdm import tqdm\n",
    "from torch.utils.data import Dataset\n",
    "IMAGE_SIZE = 224\n",
    "BATCH_SIZE = 1\n",
    "DEVICE = torch.device(\"cuda\" if torch.cuda.is_available() else \"cpu\")\n",
    "LR = 0.003\n",
    "EPOCHS = 50\n",
    "\n",
    "torch.cuda.empty_cache()"
   ]
  },
  {
   "cell_type": "code",
   "execution_count": 252,
   "metadata": {},
   "outputs": [
    {
     "data": {
      "text/html": [
       "<div>\n",
       "<style scoped>\n",
       "    .dataframe tbody tr th:only-of-type {\n",
       "        vertical-align: middle;\n",
       "    }\n",
       "\n",
       "    .dataframe tbody tr th {\n",
       "        vertical-align: top;\n",
       "    }\n",
       "\n",
       "    .dataframe thead th {\n",
       "        text-align: right;\n",
       "    }\n",
       "</style>\n",
       "<table border=\"1\" class=\"dataframe\">\n",
       "  <thead>\n",
       "    <tr style=\"text-align: right;\">\n",
       "      <th></th>\n",
       "      <th>masks</th>\n",
       "      <th>images</th>\n",
       "    </tr>\n",
       "  </thead>\n",
       "  <tbody>\n",
       "    <tr>\n",
       "      <th>0</th>\n",
       "      <td>Human-Segmentation-Dataset-master/Ground_Truth...</td>\n",
       "      <td>Human-Segmentation-Dataset-master/Training_Ima...</td>\n",
       "    </tr>\n",
       "    <tr>\n",
       "      <th>1</th>\n",
       "      <td>Human-Segmentation-Dataset-master/Ground_Truth...</td>\n",
       "      <td>Human-Segmentation-Dataset-master/Training_Ima...</td>\n",
       "    </tr>\n",
       "    <tr>\n",
       "      <th>2</th>\n",
       "      <td>Human-Segmentation-Dataset-master/Ground_Truth...</td>\n",
       "      <td>Human-Segmentation-Dataset-master/Training_Ima...</td>\n",
       "    </tr>\n",
       "    <tr>\n",
       "      <th>3</th>\n",
       "      <td>Human-Segmentation-Dataset-master/Ground_Truth...</td>\n",
       "      <td>Human-Segmentation-Dataset-master/Training_Ima...</td>\n",
       "    </tr>\n",
       "    <tr>\n",
       "      <th>4</th>\n",
       "      <td>Human-Segmentation-Dataset-master/Ground_Truth...</td>\n",
       "      <td>Human-Segmentation-Dataset-master/Training_Ima...</td>\n",
       "    </tr>\n",
       "  </tbody>\n",
       "</table>\n",
       "</div>"
      ],
      "text/plain": [
       "                                               masks  \\\n",
       "0  Human-Segmentation-Dataset-master/Ground_Truth...   \n",
       "1  Human-Segmentation-Dataset-master/Ground_Truth...   \n",
       "2  Human-Segmentation-Dataset-master/Ground_Truth...   \n",
       "3  Human-Segmentation-Dataset-master/Ground_Truth...   \n",
       "4  Human-Segmentation-Dataset-master/Ground_Truth...   \n",
       "\n",
       "                                              images  \n",
       "0  Human-Segmentation-Dataset-master/Training_Ima...  \n",
       "1  Human-Segmentation-Dataset-master/Training_Ima...  \n",
       "2  Human-Segmentation-Dataset-master/Training_Ima...  \n",
       "3  Human-Segmentation-Dataset-master/Training_Ima...  \n",
       "4  Human-Segmentation-Dataset-master/Training_Ima...  "
      ]
     },
     "execution_count": 252,
     "metadata": {},
     "output_type": "execute_result"
    }
   ],
   "source": [
    "\n",
    "df = pd.read_csv(os.path.join(dataset_path, \"train.csv\"))\n",
    "df.head()"
   ]
  },
  {
   "cell_type": "code",
   "execution_count": 253,
   "metadata": {},
   "outputs": [],
   "source": [
    "train_df, valid_df = train_test_split(df, test_size = 0.2, random_state = 42)"
   ]
  },
  {
   "cell_type": "code",
   "execution_count": 254,
   "metadata": {},
   "outputs": [],
   "source": [
    "def get_train_augs():\n",
    "  \"\"\"\n",
    "    Get data augmentation transformations for training data.\n",
    "\n",
    "    Returns:\n",
    "    A.Compose: A composition of data augmentation transformations including resizing,\n",
    "                horizontal flip (50% probability), and vertical flip (50% probability).\n",
    "    \"\"\"\n",
    "  return A.Compose([A.Resize(IMAGE_SIZE, IMAGE_SIZE), A.HorizontalFlip(0.5), A.VerticalFlip(0.5)], is_check_shapes=False)\n",
    "def get_test_augs():\n",
    "  \"\"\"\n",
    "    Get data augmentation transformations for testing data.\n",
    "\n",
    "    Returns:\n",
    "    A.Compose: A composition of data augmentation transformations including resizing.\n",
    "    \"\"\"\n",
    "  return A.Compose([A.Resize(IMAGE_SIZE, IMAGE_SIZE)], is_check_shapes=False)"
   ]
  },
  {
   "cell_type": "code",
   "execution_count": 233,
   "metadata": {},
   "outputs": [],
   "source": [
    "class SegmentationDataset(Dataset):\n",
    "  \"\"\"\n",
    "  Custom dataset for segmentation tasks.\n",
    "\n",
    "  Args:\n",
    "  df (DataFrame): A DataFrame containing image and mask file paths.\n",
    "  augmentations (callable, optional): A composition of image and mask augmentations. Default is None.\n",
    "\n",
    "  Attributes:\n",
    "  df (DataFrame): A DataFrame containing image and mask file paths.\n",
    "  augmentations (callable, optional): A composition of image and mask augmentations.\n",
    "\n",
    "  Methods:\n",
    "  __len__(): Get the number of samples in the dataset.\n",
    "  __getitem__(index): Retrieve an image-mask pair at the specified index.\n",
    "\n",
    "  Returns:\n",
    "  image (Tensor): Preprocessed image as a PyTorch Tensor.\n",
    "  mask (Tensor): Preprocessed mask as a PyTorch Tensor.\n",
    "  \"\"\"\n",
    "  def __init__(self, df, augmentations):\n",
    "    \"\"\"\n",
    "    Initialize a SegmentationDataset.\n",
    "\n",
    "    Args:\n",
    "    df (DataFrame): A DataFrame containing image and mask file paths.\n",
    "    augmentations (callable, optional): A composition of image and mask augmentations. Default is None.\n",
    "    \"\"\"\n",
    "    self.df = df\n",
    "    self.augmentations = augmentations\n",
    "\n",
    "  def __len__(self):\n",
    "    \"\"\"\n",
    "      Get the number of samples in the dataset.\n",
    "\n",
    "      Returns:\n",
    "      int: The number of samples in the dataset.\n",
    "        \"\"\"\n",
    "    return len(self.df)\n",
    "\n",
    "  def __getitem__(self, index):\n",
    "    \"\"\"\n",
    "    Retrieve an image-mask pair at the specified index.\n",
    "\n",
    "    Args:\n",
    "    index (int): Index of the sample to retrieve.\n",
    "\n",
    "    Returns:\n",
    "    image (Tensor): Preprocessed image as a PyTorch Tensor.\n",
    "    mask (Tensor): Preprocessed mask as a PyTorch Tensor.\n",
    "    \"\"\"\n",
    "    row = self.df.iloc[index]\n",
    "    image_path = row.images\n",
    "    mask_path = row.masks\n",
    "\n",
    "    image = cv2.imread(image_path)\n",
    "    image = cv2.cvtColor(image, cv2.COLOR_BGR2RGB)\n",
    "\n",
    "    mask = cv2.imread(mask_path, cv2.IMREAD_GRAYSCALE)\n",
    "    mask = np.expand_dims(mask, axis = -1)\n",
    "\n",
    "    if self.augmentations:\n",
    "      data = self.augmentations(image = image, mask = mask)\n",
    "      image = data[\"image\"]\n",
    "      mask = data[\"mask\"]\n",
    "\n",
    "    # (h,w,c)-> (c,h, w)\n",
    "\n",
    "    image = np.transpose(image, (2,0,1)).astype(np.float64)\n",
    "    mask = np.transpose(mask, (2,0,1)).astype(np.float64)\n",
    "\n",
    "    image = torch.Tensor(image) /255.0\n",
    "    mask = torch.round(torch.Tensor(mask)/255.0)\n",
    "\n",
    "    return image, mask\n"
   ]
  },
  {
   "cell_type": "code",
   "execution_count": 234,
   "metadata": {},
   "outputs": [],
   "source": [
    "trainset = SegmentationDataset(train_df, get_train_augs())\n",
    "validset = SegmentationDataset(valid_df, get_test_augs())"
   ]
  },
  {
   "cell_type": "code",
   "execution_count": 235,
   "metadata": {},
   "outputs": [
    {
     "name": "stdout",
     "output_type": "stream",
     "text": [
      "Size of Trainset : 232\n",
      "Size of Validset : 58\n"
     ]
    }
   ],
   "source": [
    "print(f\"Size of Trainset : {len(trainset)}\")\n",
    "print(f\"Size of Validset : {len(validset)}\")"
   ]
  },
  {
   "cell_type": "code",
   "execution_count": 236,
   "metadata": {},
   "outputs": [
    {
     "name": "stdout",
     "output_type": "stream",
     "text": [
      "total no. of batches in trainloader : 232\n",
      "total no. of batches in validloader : 58\n"
     ]
    }
   ],
   "source": [
    "trainloader = DataLoader(trainset, batch_size=BATCH_SIZE, shuffle= True)\n",
    "validloader = DataLoader(validset, batch_size=BATCH_SIZE)\n",
    "print(f\"total no. of batches in trainloader : {len(trainloader)}\")\n",
    "print(f\"total no. of batches in validloader : {len(validloader)}\")"
   ]
  },
  {
   "cell_type": "code",
   "execution_count": 237,
   "metadata": {},
   "outputs": [
    {
     "name": "stdout",
     "output_type": "stream",
     "text": [
      "One batch image shape : torch.Size([1, 3, 224, 224])\n",
      "One batch mask shape : torch.Size([1, 1, 224, 224])\n"
     ]
    }
   ],
   "source": [
    "for image, mask in trainloader:\n",
    "  break\n",
    "\n",
    "print(f\"One batch image shape : {image.shape}\")\n",
    "print(f\"One batch mask shape : {mask.shape}\")"
   ]
  },
  {
   "cell_type": "code",
   "execution_count": 238,
   "metadata": {},
   "outputs": [],
   "source": [
    "from torch import nn\n",
    "from segmentation_models_pytorch.losses import DiceLoss"
   ]
  },
  {
   "cell_type": "code",
   "execution_count": 239,
   "metadata": {},
   "outputs": [
    {
     "name": "stdout",
     "output_type": "stream",
     "text": [
      "torch.Size([1, 1, 320, 320])\n"
     ]
    },
    {
     "data": {
      "text/plain": [
       "UNet(\n",
       "  (ups): ModuleList(\n",
       "    (0): ConvTranspose2d(1024, 512, kernel_size=(2, 2), stride=(2, 2))\n",
       "    (1): DoubleConv(\n",
       "      (conv): Sequential(\n",
       "        (0): Conv2d(1024, 512, kernel_size=(3, 3), stride=(1, 1), padding=(1, 1), bias=False)\n",
       "        (1): BatchNorm2d(512, eps=1e-05, momentum=0.1, affine=True, track_running_stats=True)\n",
       "        (2): ReLU(inplace=True)\n",
       "        (3): Conv2d(512, 512, kernel_size=(3, 3), stride=(1, 1), padding=(1, 1))\n",
       "        (4): BatchNorm2d(512, eps=1e-05, momentum=0.1, affine=True, track_running_stats=True)\n",
       "        (5): ReLU(inplace=True)\n",
       "      )\n",
       "    )\n",
       "    (2): ConvTranspose2d(512, 256, kernel_size=(2, 2), stride=(2, 2))\n",
       "    (3): DoubleConv(\n",
       "      (conv): Sequential(\n",
       "        (0): Conv2d(512, 256, kernel_size=(3, 3), stride=(1, 1), padding=(1, 1), bias=False)\n",
       "        (1): BatchNorm2d(256, eps=1e-05, momentum=0.1, affine=True, track_running_stats=True)\n",
       "        (2): ReLU(inplace=True)\n",
       "        (3): Conv2d(256, 256, kernel_size=(3, 3), stride=(1, 1), padding=(1, 1))\n",
       "        (4): BatchNorm2d(256, eps=1e-05, momentum=0.1, affine=True, track_running_stats=True)\n",
       "        (5): ReLU(inplace=True)\n",
       "      )\n",
       "    )\n",
       "    (4): ConvTranspose2d(256, 128, kernel_size=(2, 2), stride=(2, 2))\n",
       "    (5): DoubleConv(\n",
       "      (conv): Sequential(\n",
       "        (0): Conv2d(256, 128, kernel_size=(3, 3), stride=(1, 1), padding=(1, 1), bias=False)\n",
       "        (1): BatchNorm2d(128, eps=1e-05, momentum=0.1, affine=True, track_running_stats=True)\n",
       "        (2): ReLU(inplace=True)\n",
       "        (3): Conv2d(128, 128, kernel_size=(3, 3), stride=(1, 1), padding=(1, 1))\n",
       "        (4): BatchNorm2d(128, eps=1e-05, momentum=0.1, affine=True, track_running_stats=True)\n",
       "        (5): ReLU(inplace=True)\n",
       "      )\n",
       "    )\n",
       "    (6): ConvTranspose2d(128, 64, kernel_size=(2, 2), stride=(2, 2))\n",
       "    (7): DoubleConv(\n",
       "      (conv): Sequential(\n",
       "        (0): Conv2d(128, 64, kernel_size=(3, 3), stride=(1, 1), padding=(1, 1), bias=False)\n",
       "        (1): BatchNorm2d(64, eps=1e-05, momentum=0.1, affine=True, track_running_stats=True)\n",
       "        (2): ReLU(inplace=True)\n",
       "        (3): Conv2d(64, 64, kernel_size=(3, 3), stride=(1, 1), padding=(1, 1))\n",
       "        (4): BatchNorm2d(64, eps=1e-05, momentum=0.1, affine=True, track_running_stats=True)\n",
       "        (5): ReLU(inplace=True)\n",
       "      )\n",
       "    )\n",
       "  )\n",
       "  (downs): ModuleList(\n",
       "    (0): DoubleConv(\n",
       "      (conv): Sequential(\n",
       "        (0): Conv2d(3, 64, kernel_size=(3, 3), stride=(1, 1), padding=(1, 1), bias=False)\n",
       "        (1): BatchNorm2d(64, eps=1e-05, momentum=0.1, affine=True, track_running_stats=True)\n",
       "        (2): ReLU(inplace=True)\n",
       "        (3): Conv2d(64, 64, kernel_size=(3, 3), stride=(1, 1), padding=(1, 1))\n",
       "        (4): BatchNorm2d(64, eps=1e-05, momentum=0.1, affine=True, track_running_stats=True)\n",
       "        (5): ReLU(inplace=True)\n",
       "      )\n",
       "    )\n",
       "    (1): DoubleConv(\n",
       "      (conv): Sequential(\n",
       "        (0): Conv2d(64, 128, kernel_size=(3, 3), stride=(1, 1), padding=(1, 1), bias=False)\n",
       "        (1): BatchNorm2d(128, eps=1e-05, momentum=0.1, affine=True, track_running_stats=True)\n",
       "        (2): ReLU(inplace=True)\n",
       "        (3): Conv2d(128, 128, kernel_size=(3, 3), stride=(1, 1), padding=(1, 1))\n",
       "        (4): BatchNorm2d(128, eps=1e-05, momentum=0.1, affine=True, track_running_stats=True)\n",
       "        (5): ReLU(inplace=True)\n",
       "      )\n",
       "    )\n",
       "    (2): DoubleConv(\n",
       "      (conv): Sequential(\n",
       "        (0): Conv2d(128, 256, kernel_size=(3, 3), stride=(1, 1), padding=(1, 1), bias=False)\n",
       "        (1): BatchNorm2d(256, eps=1e-05, momentum=0.1, affine=True, track_running_stats=True)\n",
       "        (2): ReLU(inplace=True)\n",
       "        (3): Conv2d(256, 256, kernel_size=(3, 3), stride=(1, 1), padding=(1, 1))\n",
       "        (4): BatchNorm2d(256, eps=1e-05, momentum=0.1, affine=True, track_running_stats=True)\n",
       "        (5): ReLU(inplace=True)\n",
       "      )\n",
       "    )\n",
       "    (3): DoubleConv(\n",
       "      (conv): Sequential(\n",
       "        (0): Conv2d(256, 512, kernel_size=(3, 3), stride=(1, 1), padding=(1, 1), bias=False)\n",
       "        (1): BatchNorm2d(512, eps=1e-05, momentum=0.1, affine=True, track_running_stats=True)\n",
       "        (2): ReLU(inplace=True)\n",
       "        (3): Conv2d(512, 512, kernel_size=(3, 3), stride=(1, 1), padding=(1, 1))\n",
       "        (4): BatchNorm2d(512, eps=1e-05, momentum=0.1, affine=True, track_running_stats=True)\n",
       "        (5): ReLU(inplace=True)\n",
       "      )\n",
       "    )\n",
       "  )\n",
       "  (pool): MaxPool2d(kernel_size=2, stride=2, padding=0, dilation=1, ceil_mode=False)\n",
       "  (bottleneck): DoubleConv(\n",
       "    (conv): Sequential(\n",
       "      (0): Conv2d(512, 1024, kernel_size=(3, 3), stride=(1, 1), padding=(1, 1), bias=False)\n",
       "      (1): BatchNorm2d(1024, eps=1e-05, momentum=0.1, affine=True, track_running_stats=True)\n",
       "      (2): ReLU(inplace=True)\n",
       "      (3): Conv2d(1024, 1024, kernel_size=(3, 3), stride=(1, 1), padding=(1, 1))\n",
       "      (4): BatchNorm2d(1024, eps=1e-05, momentum=0.1, affine=True, track_running_stats=True)\n",
       "      (5): ReLU(inplace=True)\n",
       "    )\n",
       "  )\n",
       "  (final_conv): Conv2d(64, 1, kernel_size=(1, 1), stride=(1, 1))\n",
       ")"
      ]
     },
     "execution_count": 239,
     "metadata": {},
     "output_type": "execute_result"
    }
   ],
   "source": [
    "x = torch.randn((1, 3, 320, 320))\n",
    "model = UNet(in_channels=3, out_channels=1)\n",
    "preds = model(x)\n",
    "print(preds.shape)\n",
    "model = UNet(in_channels=3, out_channels=1)\n",
    "model.to(DEVICE)"
   ]
  },
  {
   "cell_type": "code",
   "execution_count": 240,
   "metadata": {},
   "outputs": [],
   "source": [
    "def composite_loss(logits, masks):\n",
    "    loss1 = DiceLoss(mode=\"binary\")(logits, masks)\n",
    "    loss2 = nn.BCEWithLogitsLoss()(logits, masks)\n",
    "    loss2 = nn.BCEWithLogitsLoss()(logits, masks)\n",
    "    return loss1 + loss2"
   ]
  },
  {
   "cell_type": "code",
   "execution_count": 241,
   "metadata": {},
   "outputs": [],
   "source": [
    "def train_fn(data_loader, model, optimizer):\n",
    "  \"\"\"\n",
    "  Training function for a segmentation model.\n",
    "\n",
    "  Args:\n",
    "  data_loader (DataLoader): DataLoader for training data.\n",
    "  model (nn.Module): Segmentation model.\n",
    "  optimizer (optim.Optimizer): Optimization algorithm.\n",
    "\n",
    "  Returns:\n",
    "  float: Average training loss.\n",
    "  \"\"\"\n",
    "  model.train()\n",
    "\n",
    "  total_loss = 0.0\n",
    "\n",
    "  for images, masks in tqdm(data_loader):\n",
    "    images = images.to(DEVICE)\n",
    "    masks = masks.to(DEVICE)\n",
    "\n",
    "    optimizer.zero_grad()\n",
    "\n",
    "    logits = model(images)\n",
    "    loss = composite_loss(logits, masks)\n",
    "    loss.backward()\n",
    "    optimizer.step()\n",
    "\n",
    "    total_loss += loss.item()\n",
    "\n",
    "  return total_loss/ len(data_loader)"
   ]
  },
  {
   "cell_type": "code",
   "execution_count": 245,
   "metadata": {},
   "outputs": [],
   "source": [
    "def eval_fn(data_loader, model):\n",
    "  \"\"\"\n",
    "    Evaluation function for a segmentation model.\n",
    "\n",
    "    Args:\n",
    "    data_loader (DataLoader): DataLoader for evaluation data.\n",
    "    model (nn.Module): Segmentation model.\n",
    "\n",
    "    Returns:\n",
    "    float: Average evaluation loss.\n",
    "    \"\"\"\n",
    "  model.eval()\n",
    "\n",
    "  total_loss = 0.0\n",
    "  with torch.no_grad():\n",
    "    for images, masks in tqdm(data_loader):\n",
    "      images = images.to(DEVICE)\n",
    "      masks = masks.to(DEVICE)\n",
    "\n",
    "\n",
    "      logits = model(images)\n",
    "      loss = composite_loss(logits, masks)\n",
    "      total_loss += loss.item()\n",
    "\n",
    "    return total_loss/ len(data_loader)"
   ]
  },
  {
   "cell_type": "code",
   "execution_count": 246,
   "metadata": {},
   "outputs": [],
   "source": [
    "optimizer = torch.optim.Adam(model.parameters(), lr = LR)"
   ]
  },
  {
   "cell_type": "code",
   "execution_count": 255,
   "metadata": {},
   "outputs": [
    {
     "name": "stderr",
     "output_type": "stream",
     "text": [
      "100%|██████████| 232/232 [01:18<00:00,  2.96it/s]\n",
      "100%|██████████| 58/58 [00:04<00:00, 11.74it/s]\n"
     ]
    },
    {
     "name": "stdout",
     "output_type": "stream",
     "text": [
      "Epoch : 1 Train_loss : 1.1774993225418289 Valid_loss : 1.3998057616168056\n"
     ]
    },
    {
     "name": "stderr",
     "output_type": "stream",
     "text": [
      "100%|██████████| 232/232 [01:23<00:00,  2.78it/s]\n",
      "100%|██████████| 58/58 [00:04<00:00, 13.58it/s]\n"
     ]
    },
    {
     "name": "stdout",
     "output_type": "stream",
     "text": [
      "Epoch : 2 Train_loss : 1.175026958358699 Valid_loss : 1.3725783927687283\n"
     ]
    },
    {
     "name": "stderr",
     "output_type": "stream",
     "text": [
      "100%|██████████| 232/232 [01:01<00:00,  3.76it/s]\n",
      "100%|██████████| 58/58 [00:02<00:00, 26.60it/s]\n"
     ]
    },
    {
     "name": "stdout",
     "output_type": "stream",
     "text": [
      "Epoch : 3 Train_loss : 1.1600730406313107 Valid_loss : 1.3980116268684124\n"
     ]
    },
    {
     "name": "stderr",
     "output_type": "stream",
     "text": [
      "100%|██████████| 232/232 [01:05<00:00,  3.53it/s]\n",
      "100%|██████████| 58/58 [00:03<00:00, 14.68it/s]\n"
     ]
    },
    {
     "name": "stdout",
     "output_type": "stream",
     "text": [
      "Epoch : 4 Train_loss : 1.158564941893364 Valid_loss : 1.5373315852263878\n"
     ]
    },
    {
     "name": "stderr",
     "output_type": "stream",
     "text": [
      "100%|██████████| 232/232 [01:05<00:00,  3.53it/s]\n",
      "100%|██████████| 58/58 [00:03<00:00, 14.68it/s]\n"
     ]
    },
    {
     "name": "stdout",
     "output_type": "stream",
     "text": [
      "Epoch : 5 Train_loss : 1.153479747217277 Valid_loss : 1.4088328850680385\n"
     ]
    },
    {
     "name": "stderr",
     "output_type": "stream",
     "text": [
      "100%|██████████| 232/232 [01:06<00:00,  3.51it/s]\n",
      "100%|██████████| 58/58 [00:04<00:00, 14.01it/s]\n"
     ]
    },
    {
     "name": "stdout",
     "output_type": "stream",
     "text": [
      "Epoch : 6 Train_loss : 1.1470957578256213 Valid_loss : 1.3125081771406635\n"
     ]
    },
    {
     "name": "stderr",
     "output_type": "stream",
     "text": [
      "100%|██████████| 232/232 [00:59<00:00,  3.90it/s]\n",
      "100%|██████████| 58/58 [00:03<00:00, 14.64it/s]\n"
     ]
    },
    {
     "name": "stdout",
     "output_type": "stream",
     "text": [
      "Epoch : 7 Train_loss : 1.1460456514152988 Valid_loss : 1.4222275542801823\n"
     ]
    },
    {
     "name": "stderr",
     "output_type": "stream",
     "text": [
      "100%|██████████| 232/232 [01:06<00:00,  3.51it/s]\n",
      "100%|██████████| 58/58 [00:03<00:00, 14.61it/s]\n"
     ]
    },
    {
     "name": "stdout",
     "output_type": "stream",
     "text": [
      "Epoch : 8 Train_loss : 1.1402871084624324 Valid_loss : 1.4199833880210746\n"
     ]
    },
    {
     "name": "stderr",
     "output_type": "stream",
     "text": [
      "100%|██████████| 232/232 [01:05<00:00,  3.52it/s]\n",
      "100%|██████████| 58/58 [00:03<00:00, 14.76it/s]\n"
     ]
    },
    {
     "name": "stdout",
     "output_type": "stream",
     "text": [
      "Epoch : 9 Train_loss : 1.131249096886865 Valid_loss : 1.3439970520035973\n"
     ]
    },
    {
     "name": "stderr",
     "output_type": "stream",
     "text": [
      "100%|██████████| 232/232 [01:02<00:00,  3.71it/s]\n",
      "100%|██████████| 58/58 [00:04<00:00, 13.65it/s]\n"
     ]
    },
    {
     "name": "stdout",
     "output_type": "stream",
     "text": [
      "Epoch : 10 Train_loss : 1.1327387659714139 Valid_loss : 1.3821130024975743\n"
     ]
    },
    {
     "name": "stderr",
     "output_type": "stream",
     "text": [
      "100%|██████████| 232/232 [01:16<00:00,  3.04it/s]\n",
      "100%|██████████| 58/58 [00:04<00:00, 12.19it/s]\n"
     ]
    },
    {
     "name": "stdout",
     "output_type": "stream",
     "text": [
      "Epoch : 11 Train_loss : 1.1271768816072365 Valid_loss : 1.375201368126376\n"
     ]
    },
    {
     "name": "stderr",
     "output_type": "stream",
     "text": [
      "100%|██████████| 232/232 [01:13<00:00,  3.15it/s]\n",
      "100%|██████████| 58/58 [00:04<00:00, 11.90it/s]\n"
     ]
    },
    {
     "name": "stdout",
     "output_type": "stream",
     "text": [
      "Epoch : 12 Train_loss : 1.1147654138762375 Valid_loss : 1.3591215014457703\n"
     ]
    },
    {
     "name": "stderr",
     "output_type": "stream",
     "text": [
      "100%|██████████| 232/232 [01:08<00:00,  3.40it/s]\n",
      "100%|██████████| 58/58 [00:01<00:00, 31.75it/s]\n"
     ]
    },
    {
     "name": "stdout",
     "output_type": "stream",
     "text": [
      "Epoch : 13 Train_loss : 1.118135543475891 Valid_loss : 1.4274180860354984\n"
     ]
    },
    {
     "name": "stderr",
     "output_type": "stream",
     "text": [
      "100%|██████████| 232/232 [01:01<00:00,  3.78it/s]\n",
      "100%|██████████| 58/58 [00:03<00:00, 14.77it/s]\n"
     ]
    },
    {
     "name": "stdout",
     "output_type": "stream",
     "text": [
      "Epoch : 14 Train_loss : 1.106412199293745 Valid_loss : 1.38701989630173\n"
     ]
    },
    {
     "name": "stderr",
     "output_type": "stream",
     "text": [
      "100%|██████████| 232/232 [01:05<00:00,  3.56it/s]\n",
      "100%|██████████| 58/58 [00:03<00:00, 14.84it/s]\n"
     ]
    },
    {
     "name": "stdout",
     "output_type": "stream",
     "text": [
      "Epoch : 15 Train_loss : 1.1046135209757706 Valid_loss : 1.339556044545667\n"
     ]
    },
    {
     "name": "stderr",
     "output_type": "stream",
     "text": [
      "100%|██████████| 232/232 [01:05<00:00,  3.56it/s]\n",
      "100%|██████████| 58/58 [00:03<00:00, 14.80it/s]\n"
     ]
    },
    {
     "name": "stdout",
     "output_type": "stream",
     "text": [
      "Epoch : 16 Train_loss : 1.091565326370042 Valid_loss : 1.373775036170565\n"
     ]
    },
    {
     "name": "stderr",
     "output_type": "stream",
     "text": [
      "100%|██████████| 232/232 [01:07<00:00,  3.44it/s]\n",
      "100%|██████████| 58/58 [00:05<00:00,  9.91it/s]\n"
     ]
    },
    {
     "name": "stdout",
     "output_type": "stream",
     "text": [
      "Epoch : 17 Train_loss : 1.0878481022242843 Valid_loss : 1.4984478118090794\n"
     ]
    },
    {
     "name": "stderr",
     "output_type": "stream",
     "text": [
      "100%|██████████| 232/232 [01:06<00:00,  3.51it/s]\n",
      "100%|██████████| 58/58 [00:04<00:00, 13.33it/s]\n"
     ]
    },
    {
     "name": "stdout",
     "output_type": "stream",
     "text": [
      "Epoch : 18 Train_loss : 1.0791906948233474 Valid_loss : 1.4256983800181027\n"
     ]
    },
    {
     "name": "stderr",
     "output_type": "stream",
     "text": [
      "100%|██████████| 232/232 [01:14<00:00,  3.14it/s]\n",
      "100%|██████████| 58/58 [00:04<00:00, 12.82it/s]\n"
     ]
    },
    {
     "name": "stdout",
     "output_type": "stream",
     "text": [
      "Epoch : 19 Train_loss : 1.0804857151775524 Valid_loss : 1.387019776064774\n"
     ]
    },
    {
     "name": "stderr",
     "output_type": "stream",
     "text": [
      "100%|██████████| 232/232 [01:15<00:00,  3.09it/s]\n",
      "100%|██████████| 58/58 [00:04<00:00, 12.64it/s]\n"
     ]
    },
    {
     "name": "stdout",
     "output_type": "stream",
     "text": [
      "Epoch : 20 Train_loss : 1.0755659036081413 Valid_loss : 1.4259166131759513\n"
     ]
    },
    {
     "name": "stderr",
     "output_type": "stream",
     "text": [
      "100%|██████████| 232/232 [01:12<00:00,  3.18it/s]\n",
      "100%|██████████| 58/58 [00:04<00:00, 13.57it/s]\n"
     ]
    },
    {
     "name": "stdout",
     "output_type": "stream",
     "text": [
      "Epoch : 21 Train_loss : 1.0619362588843395 Valid_loss : 1.3850293262251492\n"
     ]
    },
    {
     "name": "stderr",
     "output_type": "stream",
     "text": [
      "100%|██████████| 232/232 [01:10<00:00,  3.31it/s]\n",
      "100%|██████████| 58/58 [00:04<00:00, 14.50it/s]\n"
     ]
    },
    {
     "name": "stdout",
     "output_type": "stream",
     "text": [
      "Epoch : 22 Train_loss : 1.0543421170321003 Valid_loss : 1.4304125082903896\n"
     ]
    },
    {
     "name": "stderr",
     "output_type": "stream",
     "text": [
      "100%|██████████| 232/232 [01:10<00:00,  3.28it/s]\n",
      "100%|██████████| 58/58 [00:04<00:00, 12.96it/s]\n"
     ]
    },
    {
     "name": "stdout",
     "output_type": "stream",
     "text": [
      "Epoch : 23 Train_loss : 1.050935742670092 Valid_loss : 1.4398553340599454\n"
     ]
    },
    {
     "name": "stderr",
     "output_type": "stream",
     "text": [
      "100%|██████████| 232/232 [01:11<00:00,  3.23it/s]\n",
      "100%|██████████| 58/58 [00:04<00:00, 13.00it/s]\n"
     ]
    },
    {
     "name": "stdout",
     "output_type": "stream",
     "text": [
      "Epoch : 24 Train_loss : 1.0561034544531642 Valid_loss : 1.4338647908177868\n"
     ]
    },
    {
     "name": "stderr",
     "output_type": "stream",
     "text": [
      "100%|██████████| 232/232 [01:10<00:00,  3.28it/s]\n",
      "100%|██████████| 58/58 [00:04<00:00, 14.17it/s]\n"
     ]
    },
    {
     "name": "stdout",
     "output_type": "stream",
     "text": [
      "Epoch : 25 Train_loss : 1.0601341357005054 Valid_loss : 1.4484814939827755\n"
     ]
    },
    {
     "name": "stderr",
     "output_type": "stream",
     "text": [
      "100%|██████████| 232/232 [01:08<00:00,  3.40it/s]\n",
      "100%|██████████| 58/58 [00:04<00:00, 13.66it/s]\n"
     ]
    },
    {
     "name": "stdout",
     "output_type": "stream",
     "text": [
      "Epoch : 26 Train_loss : 1.0386866451851253 Valid_loss : 1.4757969626064957\n"
     ]
    },
    {
     "name": "stderr",
     "output_type": "stream",
     "text": [
      "100%|██████████| 232/232 [01:13<00:00,  3.15it/s]\n",
      "100%|██████████| 58/58 [00:04<00:00, 12.26it/s]\n"
     ]
    },
    {
     "name": "stdout",
     "output_type": "stream",
     "text": [
      "Epoch : 27 Train_loss : 1.040136334839566 Valid_loss : 1.363914771326657\n"
     ]
    },
    {
     "name": "stderr",
     "output_type": "stream",
     "text": [
      "100%|██████████| 232/232 [01:16<00:00,  3.05it/s]\n",
      "100%|██████████| 58/58 [00:04<00:00, 11.78it/s]\n"
     ]
    },
    {
     "name": "stdout",
     "output_type": "stream",
     "text": [
      "Epoch : 28 Train_loss : 1.0386696847091461 Valid_loss : 1.4003985256984317\n"
     ]
    },
    {
     "name": "stderr",
     "output_type": "stream",
     "text": [
      "100%|██████████| 232/232 [01:16<00:00,  3.04it/s]\n",
      "100%|██████████| 58/58 [00:03<00:00, 14.81it/s]\n"
     ]
    },
    {
     "name": "stdout",
     "output_type": "stream",
     "text": [
      "Epoch : 29 Train_loss : 1.0187280864037316 Valid_loss : 1.3933736908024754\n"
     ]
    },
    {
     "name": "stderr",
     "output_type": "stream",
     "text": [
      "100%|██████████| 232/232 [01:05<00:00,  3.53it/s]\n",
      "100%|██████████| 58/58 [00:03<00:00, 14.84it/s]\n"
     ]
    },
    {
     "name": "stdout",
     "output_type": "stream",
     "text": [
      "Epoch : 30 Train_loss : 1.019680226799743 Valid_loss : 1.4945256833372444\n"
     ]
    },
    {
     "name": "stderr",
     "output_type": "stream",
     "text": [
      "100%|██████████| 232/232 [01:05<00:00,  3.56it/s]\n",
      "100%|██████████| 58/58 [00:04<00:00, 14.48it/s]\n"
     ]
    },
    {
     "name": "stdout",
     "output_type": "stream",
     "text": [
      "Epoch : 31 Train_loss : 1.0206575120060608 Valid_loss : 1.4510360730105434\n"
     ]
    },
    {
     "name": "stderr",
     "output_type": "stream",
     "text": [
      "100%|██████████| 232/232 [01:05<00:00,  3.53it/s]\n",
      "100%|██████████| 58/58 [00:04<00:00, 14.38it/s]\n"
     ]
    },
    {
     "name": "stdout",
     "output_type": "stream",
     "text": [
      "Epoch : 32 Train_loss : 1.0169185930541877 Valid_loss : 1.4180318805678138\n"
     ]
    },
    {
     "name": "stderr",
     "output_type": "stream",
     "text": [
      "100%|██████████| 232/232 [01:05<00:00,  3.56it/s]\n",
      "100%|██████████| 58/58 [00:03<00:00, 14.75it/s]\n"
     ]
    },
    {
     "name": "stdout",
     "output_type": "stream",
     "text": [
      "Epoch : 33 Train_loss : 1.0098220910234699 Valid_loss : 1.4011386396556065\n"
     ]
    },
    {
     "name": "stderr",
     "output_type": "stream",
     "text": [
      "100%|██████████| 232/232 [01:05<00:00,  3.56it/s]\n",
      "100%|██████████| 58/58 [00:03<00:00, 14.88it/s]\n"
     ]
    },
    {
     "name": "stdout",
     "output_type": "stream",
     "text": [
      "Epoch : 34 Train_loss : 1.0070801957927902 Valid_loss : 1.4036753085152855\n"
     ]
    },
    {
     "name": "stderr",
     "output_type": "stream",
     "text": [
      "100%|██████████| 232/232 [01:05<00:00,  3.57it/s]\n",
      "100%|██████████| 58/58 [00:03<00:00, 14.76it/s]\n"
     ]
    },
    {
     "name": "stdout",
     "output_type": "stream",
     "text": [
      "Epoch : 35 Train_loss : 1.010721720112809 Valid_loss : 1.4428992322806655\n"
     ]
    },
    {
     "name": "stderr",
     "output_type": "stream",
     "text": [
      "100%|██████████| 232/232 [01:05<00:00,  3.56it/s]\n",
      "100%|██████████| 58/58 [00:03<00:00, 14.88it/s]\n"
     ]
    },
    {
     "name": "stdout",
     "output_type": "stream",
     "text": [
      "Epoch : 36 Train_loss : 1.018954127513129 Valid_loss : 1.4568461806609714\n"
     ]
    },
    {
     "name": "stderr",
     "output_type": "stream",
     "text": [
      "100%|██████████| 232/232 [01:05<00:00,  3.56it/s]\n",
      "100%|██████████| 58/58 [00:03<00:00, 14.86it/s]\n"
     ]
    },
    {
     "name": "stdout",
     "output_type": "stream",
     "text": [
      "Epoch : 37 Train_loss : 1.0006604858770454 Valid_loss : 1.4322624052393025\n"
     ]
    },
    {
     "name": "stderr",
     "output_type": "stream",
     "text": [
      "100%|██████████| 232/232 [01:05<00:00,  3.56it/s]\n",
      "100%|██████████| 58/58 [00:03<00:00, 14.92it/s]\n"
     ]
    },
    {
     "name": "stdout",
     "output_type": "stream",
     "text": [
      "Epoch : 38 Train_loss : 0.9936197908787892 Valid_loss : 1.427328297804142\n"
     ]
    },
    {
     "name": "stderr",
     "output_type": "stream",
     "text": [
      "100%|██████████| 232/232 [01:05<00:00,  3.57it/s]\n",
      "100%|██████████| 58/58 [00:03<00:00, 14.86it/s]\n"
     ]
    },
    {
     "name": "stdout",
     "output_type": "stream",
     "text": [
      "Epoch : 39 Train_loss : 0.9873112533883802 Valid_loss : 1.4947349079724015\n"
     ]
    },
    {
     "name": "stderr",
     "output_type": "stream",
     "text": [
      "100%|██████████| 232/232 [01:05<00:00,  3.57it/s]\n",
      "100%|██████████| 58/58 [00:01<00:00, 30.98it/s]\n"
     ]
    },
    {
     "name": "stdout",
     "output_type": "stream",
     "text": [
      "Epoch : 40 Train_loss : 0.9841920602424391 Valid_loss : 1.3775345693374503\n"
     ]
    },
    {
     "name": "stderr",
     "output_type": "stream",
     "text": [
      "100%|██████████| 232/232 [01:03<00:00,  3.67it/s]\n",
      "100%|██████████| 58/58 [00:03<00:00, 14.74it/s]\n"
     ]
    },
    {
     "name": "stdout",
     "output_type": "stream",
     "text": [
      "Epoch : 41 Train_loss : 0.9847260537589418 Valid_loss : 1.549456338430273\n"
     ]
    },
    {
     "name": "stderr",
     "output_type": "stream",
     "text": [
      "100%|██████████| 232/232 [01:05<00:00,  3.56it/s]\n",
      "100%|██████████| 58/58 [00:03<00:00, 14.56it/s]\n"
     ]
    },
    {
     "name": "stdout",
     "output_type": "stream",
     "text": [
      "Epoch : 42 Train_loss : 1.0104080875372063 Valid_loss : 1.3911610923964401\n"
     ]
    },
    {
     "name": "stderr",
     "output_type": "stream",
     "text": [
      "100%|██████████| 232/232 [01:04<00:00,  3.57it/s]\n",
      "100%|██████████| 58/58 [00:01<00:00, 31.25it/s]\n"
     ]
    },
    {
     "name": "stdout",
     "output_type": "stream",
     "text": [
      "Epoch : 43 Train_loss : 1.0159653395671269 Valid_loss : 1.4070013432667172\n"
     ]
    },
    {
     "name": "stderr",
     "output_type": "stream",
     "text": [
      "100%|██████████| 232/232 [01:05<00:00,  3.56it/s]\n",
      "100%|██████████| 58/58 [00:03<00:00, 14.87it/s]\n"
     ]
    },
    {
     "name": "stdout",
     "output_type": "stream",
     "text": [
      "Epoch : 44 Train_loss : 0.9886578699124271 Valid_loss : 1.4300532967879855\n"
     ]
    },
    {
     "name": "stderr",
     "output_type": "stream",
     "text": [
      "100%|██████████| 232/232 [01:05<00:00,  3.56it/s]\n",
      "100%|██████████| 58/58 [00:03<00:00, 14.93it/s]\n"
     ]
    },
    {
     "name": "stdout",
     "output_type": "stream",
     "text": [
      "Epoch : 45 Train_loss : 0.9799730722503416 Valid_loss : 1.5775658179973733\n"
     ]
    },
    {
     "name": "stderr",
     "output_type": "stream",
     "text": [
      "100%|██████████| 232/232 [01:05<00:00,  3.54it/s]\n",
      "100%|██████████| 58/58 [00:03<00:00, 14.85it/s]\n"
     ]
    },
    {
     "name": "stdout",
     "output_type": "stream",
     "text": [
      "Epoch : 46 Train_loss : 0.9756211038550426 Valid_loss : 1.5242593062335048\n"
     ]
    },
    {
     "name": "stderr",
     "output_type": "stream",
     "text": [
      "100%|██████████| 232/232 [01:05<00:00,  3.56it/s]\n",
      "100%|██████████| 58/58 [00:03<00:00, 14.73it/s]\n"
     ]
    },
    {
     "name": "stdout",
     "output_type": "stream",
     "text": [
      "Epoch : 47 Train_loss : 0.9763316321989586 Valid_loss : 1.5712076415275704\n"
     ]
    },
    {
     "name": "stderr",
     "output_type": "stream",
     "text": [
      "100%|██████████| 232/232 [01:05<00:00,  3.56it/s]\n",
      "100%|██████████| 58/58 [00:04<00:00, 13.35it/s]\n"
     ]
    },
    {
     "name": "stdout",
     "output_type": "stream",
     "text": [
      "Epoch : 48 Train_loss : 0.9738180435680109 Valid_loss : 1.6565106994119183\n"
     ]
    },
    {
     "name": "stderr",
     "output_type": "stream",
     "text": [
      "100%|██████████| 232/232 [01:05<00:00,  3.56it/s]\n",
      "100%|██████████| 58/58 [00:03<00:00, 14.86it/s]\n"
     ]
    },
    {
     "name": "stdout",
     "output_type": "stream",
     "text": [
      "Epoch : 49 Train_loss : 0.9794398501258472 Valid_loss : 1.6086296038380985\n"
     ]
    },
    {
     "name": "stderr",
     "output_type": "stream",
     "text": [
      "100%|██████████| 232/232 [01:05<00:00,  3.56it/s]\n",
      "100%|██████████| 58/58 [00:03<00:00, 14.92it/s]"
     ]
    },
    {
     "name": "stdout",
     "output_type": "stream",
     "text": [
      "Epoch : 50 Train_loss : 0.9757758707835756 Valid_loss : 1.439326503153505\n"
     ]
    },
    {
     "name": "stderr",
     "output_type": "stream",
     "text": [
      "\n"
     ]
    }
   ],
   "source": [
    "best_valid_loss = np.Inf\n",
    "for i in range(EPOCHS):\n",
    "  train_loss = train_fn(trainloader, model, optimizer)\n",
    "  valid_loss = eval_fn(validloader, model)\n",
    "  if valid_loss < best_valid_loss:\n",
    "    torch.save(model.state_dict(), \"best_model.pt\")\n",
    "    best_valid_loss = valid_loss\n",
    "  print(f\"Epoch : {i+1} Train_loss : {train_loss} Valid_loss : {valid_loss}\")\n"
   ]
  },
  {
   "cell_type": "code",
   "execution_count": 299,
   "metadata": {},
   "outputs": [],
   "source": [
    "idx = 2\n",
    "image, mask = validset[idx]\n",
    "logits_mask = model(image.to(DEVICE).unsqueeze(0))\n",
    "\n",
    "pred_mask = torch.sigmoid(logits_mask)\n",
    "\n",
    "pred_mask = (pred_mask > 0.5)*1.0"
   ]
  },
  {
   "cell_type": "code",
   "execution_count": 301,
   "metadata": {},
   "outputs": [
    {
     "data": {
      "image/png": "[encoded data removed]",
      "text/plain": [
       "<Figure size 432x288 with 1 Axes>"
      ]
     },
     "metadata": {
      "needs_background": "light"
     },
     "output_type": "display_data"
    }
   ],
   "source": [
    "plt.imshow(torch.squeeze(torch.squeeze(pred_mask.detach().cpu())), cmap=\"gray\")\n",
    "plt.show()"
   ]
  },
  {
   "cell_type": "code",
   "execution_count": 302,
   "metadata": {},
   "outputs": [
    {
     "data": {
      "image/png": "[encoded data removed]",
      "text/plain": [
       "<Figure size 432x288 with 1 Axes>"
      ]
     },
     "metadata": {
      "needs_background": "light"
     },
     "output_type": "display_data"
    }
   ],
   "source": [
    "image = image.permute(1, 2, 0)\n",
    "\n",
    "plt.imshow(torch.squeeze(torch.squeeze(image.detach().cpu())))\n",
    "plt.show()"
   ]
  },
  {
   "cell_type": "code",
   "execution_count": null,
   "metadata": {},
   "outputs": [],
   "source": []
  }
 ],
 "metadata": {
  "kernelspec": {
   "display_name": "torch",
   "language": "python",
   "name": "python3"
  },
  "language_info": {
   "codemirror_mode": {
    "name": "ipython",
    "version": 3
   },
   "file_extension": ".py",
   "mimetype": "text/x-python",
   "name": "python",
   "nbconvert_exporter": "python",
   "pygments_lexer": "ipython3",
   "version": "3.10.9"
  },
  "orig_nbformat": 4
 },
 "nbformat": 4,
 "nbformat_minor": 2
}

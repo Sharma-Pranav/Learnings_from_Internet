{
 "cells": [
  {
   "cell_type": "code",
   "execution_count": 45,
   "metadata": {},
   "outputs": [],
   "source": [
    "import torch \n",
    "import torch.nn as nn"
   ]
  },
  {
   "cell_type": "code",
   "execution_count": 46,
   "metadata": {},
   "outputs": [],
   "source": [
    "class conv_block(nn.Module):\n",
    "    \n",
    "    def __init__(self, in_c, out_c):\n",
    "        super().__init__()\n",
    "        \n",
    "        self.conv = nn.Sequential(\n",
    "            nn.Conv2d(in_c, out_c, kernel_size=3, padding =1),\n",
    "            nn.BatchNorm2d(out_c),\n",
    "            nn.ReLU(inplace=True),\n",
    "            nn.Conv2d(out_c, out_c, kernel_size=3, padding = 1), \n",
    "            nn.BatchNorm2d(out_c),\n",
    "            nn.ReLU(inplace=True)\n",
    "        )\n",
    "    \n",
    "    \n",
    "    def forward(self, x):\n",
    "        return self.conv(x)"
   ]
  },
  {
   "cell_type": "code",
   "execution_count": 47,
   "metadata": {},
   "outputs": [],
   "source": [
    "class encoder_block(nn.Module):\n",
    "    \n",
    "    def __init__(self, in_c, out_c):\n",
    "        super().__init__()\n",
    "        \n",
    "        self.conv = conv_block(in_c, out_c)\n",
    "        self.pool = nn.MaxPool2d((2,2))\n",
    "    \n",
    "    def forward(self, x ):\n",
    "        s = self.conv(x)\n",
    "        p = self.pool(s)\n",
    "        return s, p "
   ]
  },
  {
   "cell_type": "code",
   "execution_count": 48,
   "metadata": {},
   "outputs": [],
   "source": [
    "class attention_gate(nn.Module):\n",
    "    def __init__(self, in_c, out_c):\n",
    "        super().__init__()\n",
    "        \n",
    "        self.Wg = nn.Sequential(nn.Conv2d(in_c[0], out_c, kernel_size=1, padding=0), nn.BatchNorm2d(out_c))\n",
    "        self.Ws = nn.Sequential(nn.Conv2d(in_c[1], out_c, kernel_size=1, padding=0), nn.BatchNorm2d(out_c))\n",
    "        \n",
    "        self.relu = nn.ReLU()\n",
    "        \n",
    "        self.output = nn.Sequential(\n",
    "            nn.Conv2d(out_c, out_c, kernel_size=1, padding = 0), nn.Sigmoid()\n",
    "        )\n",
    "    \n",
    "    def forward(self, g , s):\n",
    "        wg = self.Wg(g)\n",
    "        ws = self.Ws(s)\n",
    "        out = self.relu(wg+ws)\n",
    "        out = self.output(out)\n",
    "        return out"
   ]
  },
  {
   "cell_type": "code",
   "execution_count": 49,
   "metadata": {},
   "outputs": [],
   "source": [
    "class decoder_block(nn.Module):\n",
    "    def __init__(self, in_c, out_c):\n",
    "        super().__init__()\n",
    "        \n",
    "        self.up = nn.Upsample(scale_factor=2, mode=\"bilinear\", align_corners=True)\n",
    "        self.ag = attention_gate(in_c, out_c)\n",
    "        self.c1 = conv_block(in_c[0] + out_c, out_c)\n",
    "        \n",
    "    def forward(self, x, s):\n",
    "        x = self.up(x)\n",
    "        s = self.ag(x,s)\n",
    "        x = torch.cat([x, s], axis = 1)\n",
    "        x = self.c1(x)\n",
    "        return x\n",
    "    \n",
    "    "
   ]
  },
  {
   "cell_type": "code",
   "execution_count": 50,
   "metadata": {},
   "outputs": [],
   "source": [
    "class attention_unet(nn.Module):\n",
    "    def __init__(self):\n",
    "        super().__init__()\n",
    "        self.e1 = encoder_block(3, 64)\n",
    "        self.e2 = encoder_block(64, 128)\n",
    "        self.e3 = encoder_block(128, 256)\n",
    "        self.b1 = conv_block(256, 512)\n",
    "        self.d1 = decoder_block([512, 256], 256)\n",
    "        self.d2 = decoder_block([256, 128], 128)\n",
    "        self.d3 = decoder_block([128, 64], 64)\n",
    "        \n",
    "        self.output = nn.Conv2d(64, 1, kernel_size=1, padding=0)\n",
    "    def forward(self, x):\n",
    "        s1, p1 = self.e1(x)\n",
    "        s2, p2 = self.e2(p1)\n",
    "        s3, p3 = self.e3(p2)\n",
    "        \n",
    "        b1 = self.b1(p3)\n",
    "        \n",
    "        d1 = self.d1(b1, s3)\n",
    "        d2 = self.d2(d1, s2)\n",
    "        d3 = self.d3(d2, s1)\n",
    "        \n",
    "        output = self.output(d3)\n",
    "        \n",
    "        return output\n",
    "\n"
   ]
  },
  {
   "cell_type": "code",
   "execution_count": 53,
   "metadata": {},
   "outputs": [
    {
     "data": {
      "text/plain": [
       "'\\n\\nif __name__ == \"__main__\":\\n    x = torch.randn((8, 3, 256, 256))\\n    model = attention_unet()\\n    output = model(x)\\n    print(\"output.shape : \", output.shape)\\n    \\n    \\n'"
      ]
     },
     "execution_count": 53,
     "metadata": {},
     "output_type": "execute_result"
    }
   ],
   "source": [
    "\"\"\"\n",
    "\n",
    "if __name__ == \"__main__\":\n",
    "    x = torch.randn((8, 3, 256, 256))\n",
    "    model = attention_unet()\n",
    "    output = model(x)\n",
    "    print(\"output.shape : \", output.shape)\n",
    "    \n",
    "    \n",
    "\"\"\""
   ]
  },
  {
   "cell_type": "code",
   "execution_count": null,
   "metadata": {},
   "outputs": [],
   "source": []
  }
 ],
 "metadata": {
  "kernelspec": {
   "display_name": "torch",
   "language": "python",
   "name": "python3"
  },
  "language_info": {
   "codemirror_mode": {
    "name": "ipython",
    "version": 3
   },
   "file_extension": ".py",
   "mimetype": "text/x-python",
   "name": "python",
   "nbconvert_exporter": "python",
   "pygments_lexer": "ipython3",
   "version": "3.10.9"
  },
  "orig_nbformat": 4
 },
 "nbformat": 4,
 "nbformat_minor": 2
}

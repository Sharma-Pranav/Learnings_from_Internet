{
 "cells": [
  {
   "cell_type": "code",
   "execution_count": 1,
   "metadata": {},
   "outputs": [],
   "source": [
    "# Original Source https://www.youtube.com/watch?v=vRYM1KdFtnk\n",
    "# Arxiv link: https://arxiv.org/abs/1807.06521"
   ]
  },
  {
   "cell_type": "code",
   "execution_count": 2,
   "metadata": {},
   "outputs": [],
   "source": [
    "import torch \n",
    "import torch.nn as nn"
   ]
  },
  {
   "cell_type": "code",
   "execution_count": 3,
   "metadata": {},
   "outputs": [],
   "source": [
    "class channel_attention_module(nn.Module):\n",
    "    def __init__(self, channels, ratio = 8) -> None:\n",
    "        super().__init__()\n",
    "        \n",
    "        self.avg_pool = nn.AdaptiveAvgPool2d(1)\n",
    "        self.max_pool = nn.AdaptiveMaxPool2d(1)\n",
    "        \n",
    "        self.mlp = nn.Sequential(nn.Linear(channels, channels//ratio, bias=False),\n",
    "                                 nn.ReLU(inplace = True),\n",
    "                                 nn.Linear(channels//ratio, channels, bias = False)\n",
    "                                 )\n",
    "        \n",
    "        self.sigmoid = nn.Sigmoid()\n",
    "    def forward(self, x):\n",
    "        x1 = self.avg_pool(x).squeeze(-1).squeeze(-1)\n",
    "        x1 = self.mlp(x1)\n",
    "        \n",
    "        x2 = self.max_pool(x).squeeze(-1).squeeze(-1)\n",
    "        x2 = self.mlp(x2)\n",
    "        \n",
    "        feats = x1 + x2 \n",
    "        \n",
    "        feats = self.sigmoid(feats).unsqueeze(-1).unsqueeze(-1)\n",
    "        \n",
    "        refined_feats = x * feats\n",
    "        return refined_feats"
   ]
  },
  {
   "cell_type": "code",
   "execution_count": 22,
   "metadata": {},
   "outputs": [],
   "source": [
    "# My adaption to align with original implementation\n",
    "class spatial_attention_module(nn.Module):\n",
    "    def __init__(self, channels,  kernel_size = 7) -> None:\n",
    "        super().__init__()\n",
    "        \n",
    "        self.conv = nn.Conv2d(channels, 1, kernel_size, padding=3, bias = False)\n",
    "        self.sigmoid = nn.Sigmoid()\n",
    "        \n",
    "    def forward(self, x):\n",
    "        #x1 = torch.mean(x, dim=1, keepdim=True)\n",
    "        #x2, _  = torch.max(x, dim=1, keepdim=True)\n",
    "        #print(x.shape)\n",
    "        #feats  = torch.cat([x1, x2], dim= 1)\n",
    "        #feats = self.conv(feats)\n",
    "        feats = self.conv(x)\n",
    "        feats = self.sigmoid(feats)\n",
    "        refined_feats = x * feats \n",
    "        return refined_feats"
   ]
  },
  {
   "cell_type": "code",
   "execution_count": 23,
   "metadata": {},
   "outputs": [],
   "source": [
    "class cbam(nn.Module):\n",
    "    def __init__(self, channels):\n",
    "        super().__init__()\n",
    "        \n",
    "        self.ca = channel_attention_module(channels)\n",
    "        self.sa = spatial_attention_module(channels)\n",
    "        \n",
    "    def forward(self, x):\n",
    "        x = self.ca(x)\n",
    "        x = self.sa(x)\n",
    "        return x \n",
    "        "
   ]
  },
  {
   "cell_type": "code",
   "execution_count": 24,
   "metadata": {},
   "outputs": [
    {
     "name": "stdout",
     "output_type": "stream",
     "text": [
      "torch.Size([8, 32, 512, 512])\n",
      "torch.Size([8, 32, 512, 512])\n"
     ]
    }
   ],
   "source": [
    "if __name__ == \"__main__\":\n",
    "    x = torch.randn((8, 32, 512, 512))\n",
    "    channels = x.shape[1]\n",
    "    #module = channel_attention_module(32)\n",
    "    #module = spatial_attention_module()\n",
    "    module = cbam(channels)\n",
    "    y = module(x)\n",
    "    print(y.shape)"
   ]
  },
  {
   "cell_type": "code",
   "execution_count": null,
   "metadata": {},
   "outputs": [],
   "source": []
  },
  {
   "cell_type": "code",
   "execution_count": null,
   "metadata": {},
   "outputs": [],
   "source": []
  }
 ],
 "metadata": {
  "kernelspec": {
   "display_name": "torch",
   "language": "python",
   "name": "python3"
  },
  "language_info": {
   "codemirror_mode": {
    "name": "ipython",
    "version": 3
   },
   "file_extension": ".py",
   "mimetype": "text/x-python",
   "name": "python",
   "nbconvert_exporter": "python",
   "pygments_lexer": "ipython3",
   "version": "3.10.9"
  },
  "orig_nbformat": 4
 },
 "nbformat": 4,
 "nbformat_minor": 2
}
